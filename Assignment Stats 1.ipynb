{
 "cells": [
  {
   "cell_type": "markdown",
   "metadata": {},
   "source": [
    "Calculate the mean, median, mode and standard deviation for the problem\n",
    "statements 1& 2."
   ]
  },
  {
   "cell_type": "markdown",
   "metadata": {},
   "source": [
    "## Problem Statement 1:"
   ]
  },
  {
   "cell_type": "markdown",
   "metadata": {},
   "source": [
    "The marks awarded for an assignment set for a Year 8 class of 20 students were as follows: 6 7 5 7 7 8 7 6 9 7 4 10 6 8 8 9 5 6 4 8"
   ]
  },
  {
   "cell_type": "code",
   "execution_count": 1,
   "metadata": {},
   "outputs": [
    {
     "name": "stdout",
     "output_type": "stream",
     "text": [
      "Mean of sample is 6.85 \n",
      "Median of sample is 7.0 \n",
      "Mode Deviation of sample is 7 \n",
      "Standard Deviation of sample is 1.6311119875071343 \n"
     ]
    }
   ],
   "source": [
    "import statistics\n",
    "data=[6, 7, 5, 7, 7, 8, 7, 6, 9, 7, 4, 10, 6, 8, 8, 9, 5, 6, 4, 8]\n",
    "print(\"Mean of sample is % s \"  % (statistics.mean(data)))\n",
    "print(\"Median of sample is % s \"  % (statistics.median(data)))\n",
    "print(\"Mode Deviation of sample is % s \"  % (statistics.mode(data)))\n",
    "print(\"Standard Deviation of sample is % s \"  % (statistics.stdev(data)))"
   ]
  },
  {
   "cell_type": "markdown",
   "metadata": {},
   "source": [
    "## Problem Statement 2:"
   ]
  },
  {
   "cell_type": "markdown",
   "metadata": {},
   "source": [
    "The number of calls from motorists per day for roadside service was recorded for a particular month:28, 122, 217, 130, 120, 86, 80, 90, 140, 120, 70, 40, 145, 113, 90, 68, 174, 194, 170,100, 75, 104, 97, 75, 123, 100, 75, 104, 97, 75, 123, 100, 89, 120, 109"
   ]
  },
  {
   "cell_type": "code",
   "execution_count": 2,
   "metadata": {},
   "outputs": [
    {
     "name": "stdout",
     "output_type": "stream",
     "text": [
      "Mean of sample is 107.51428571428572 \n",
      "Median of sample is 100 \n",
      "Mode of sample is 75 \n",
      "Standard Deviation of sample is 39.33892805484412 \n"
     ]
    }
   ],
   "source": [
    "sample=[28, 122, 217, 130, 120, 86, 80, 90, 140, 120, 70, 40, 145, 113, 90, 68, 174, 194, 170, 100, 75, 104, 97, 75, 123, 100, 75, 104, 97, 75, 123, 100, 89, 120, 109]\n",
    "print(\"Mean of sample is % s \"  % (statistics.mean(sample)))\n",
    "print(\"Median of sample is % s \"  % (statistics.median(sample)))\n",
    "print(\"Mode of sample is % s \"  % (statistics.mode(sample)))\n",
    "print(\"Standard Deviation of sample is % s \"  % (statistics.stdev(sample)))"
   ]
  },
  {
   "cell_type": "markdown",
   "metadata": {},
   "source": [
    "## Problem Statement 3:\n",
    "The number of times I go to the gym in weekdays, are given below along with its\n",
    "associated probability:\n",
    "x = 0, 1, 2, 3, 4, 5\n",
    "f(x) = 0.09, 0.15, 0.40, 0.25, 0.10, 0.01\n",
    "Calculate the mean no. of workouts in a week. Also evaluate the variance involved in\n",
    "it."
   ]
  },
  {
   "cell_type": "code",
   "execution_count": 3,
   "metadata": {},
   "outputs": [
    {
     "name": "stdout",
     "output_type": "stream",
     "text": [
      "Mean of Workouts is 16.666666666666668 \n",
      "Variance  1547.5512605042018 \n"
     ]
    }
   ],
   "source": [
    "workouts=[9,15,40,25,10,1]\n",
    "print(\"Mean of Workouts is % s \"  % (statistics.mean(workouts)))\n",
    "print(\"Variance  % s \"  % (statistics.variance(sample)))"
   ]
  },
  {
   "cell_type": "markdown",
   "metadata": {},
   "source": [
    "## Problem Statement 4:\n",
    "Let the continuous random variable D denote the diameter of the hole drilled in an\n",
    "aluminum sheet. The target diameter to be achieved is 12.5mm. Random\n",
    "disturbances in the process often result in inaccuracy.\n",
    "Historical data shows that the distribution of D can be modelled by the PDF (𝑑) =\n",
    "20𝑒−20(𝑑−12.5), 𝑑 ≥ 12.5. If a part with diameter > 12.6 mm needs to be scrapped,\n",
    "what is the proportion of those parts? What is the CDF when the diameter is of 11\n",
    "mm? What is your conclusion regarding the proportion of scraps?"
   ]
  },
  {
   "cell_type": "code",
   "execution_count": 29,
   "metadata": {},
   "outputs": [
    {
     "name": "stdout",
     "output_type": "stream",
     "text": [
      "P(x>12.6) =  0.13533528323661398\n",
      "P(12.5<x<12.6) =  0.8646647167633861\n"
     ]
    }
   ],
   "source": [
    "import scipy.integrate as integrate\n",
    "import numpy as np\n",
    "value, absolute_error = integrate.quad(lambda x: 20*np.exp(-20*(x-12.5)), 12.6, np.inf)\n",
    "result = 1- value\n",
    "print(\"P(x>12.6) = \", value)\n",
    "print(\"P(12.5<x<12.6) = \", result)"
   ]
  },
  {
   "cell_type": "markdown",
   "metadata": {},
   "source": [
    "## Problem Statement 5:\n",
    "A company manufactures LED bulbs with a faulty rate of 30%. If I randomly select 6\n",
    "chosen LEDs, what is the probability of having 2 faulty LEDs in my sample?\n",
    "Calculate the average value of this process. Also evaluate the standard deviation\n",
    "associated with it."
   ]
  },
  {
   "cell_type": "code",
   "execution_count": 5,
   "metadata": {},
   "outputs": [
    {
     "name": "stdout",
     "output_type": "stream",
     "text": [
      "Probability will be : 0.32413499999999995\n"
     ]
    }
   ],
   "source": [
    "#Probability of getting faulty out of 6 trials\n",
    "from scipy.stats import binom\n",
    "probab=binom.pmf(k=2,n=6,p=0.3)\n",
    "print(\"Probability will be :\",probab)"
   ]
  },
  {
   "cell_type": "code",
   "execution_count": 6,
   "metadata": {},
   "outputs": [
    {
     "name": "stdout",
     "output_type": "stream",
     "text": [
      "mean :=  1.7999999999999998\n",
      "standard deviation := 1.1224972160321822\n"
     ]
    }
   ],
   "source": [
    "from scipy.stats import binom\n",
    "import math\n",
    "n, p = 6, 0.3\n",
    "mean, var, skew, kurt = binom.stats(n, p, moments='mvsk')\n",
    "print(\"mean := \", mean)\n",
    "print(\"standard deviation :=\",math.sqrt(var))"
   ]
  },
  {
   "cell_type": "markdown",
   "metadata": {},
   "source": [
    "## Problem Statement 6:\n",
    "Gaurav and Barakha are both preparing for entrance exams. Gaurav attempts to\n",
    "solve 8 questions per day with a correction rate of 75%, while Barakha averages\n",
    "around 12 questions per day with a correction rate of 45%. What is the probability\n",
    "that each of them will solve 5 questions correctly? What happens in cases of 4 and 6\n",
    "correct solutions? What do you infer from it? What are the two main governing\n",
    "factors affecting their ability to solve questions correctly? Give a pictorial\n",
    "representation of the same to validate your answer."
   ]
  },
  {
   "cell_type": "code",
   "execution_count": 7,
   "metadata": {},
   "outputs": [
    {
     "name": "stdout",
     "output_type": "stream",
     "text": [
      "Probability gaurav to solve 4 questions correctly will be : 0.08651733398437506\n",
      "Probability gaurav to solve 5 questions correctly will be : 0.20764160156250022\n",
      "Probability gaurav to solve 5 questions correctly will be : 0.31146240234375017\n",
      "Probability barakha to solve 4 questions correctly will be : 0.16996393213605795\n",
      "Probability barakha to solve 5 questions correctly will be : 0.22249823843265792\n",
      "Probability barakha to solve 5 questions correctly will be : 0.21238468214026424\n"
     ]
    }
   ],
   "source": [
    "# probability that gaurav to solve 4 questions correctly\n",
    "probabG4=binom.pmf(k=4,n=8,p=0.75)\n",
    "print(\"Probability gaurav to solve 4 questions correctly will be :\",probabG4)\n",
    "# probability that gaurav to solve 5 questions correctly\n",
    "probabG5=binom.pmf(k=5,n=8,p=0.75)\n",
    "print(\"Probability gaurav to solve 5 questions correctly will be :\",probabG5)\n",
    "# probability that gaurav to solve 6 questions correctly\n",
    "probabG6=binom.pmf(k=6,n=8,p=0.75)\n",
    "print(\"Probability gaurav to solve 5 questions correctly will be :\",probabG6)\n",
    "\n",
    "# probability that barakha to solve 4 questions correctly\n",
    "probabB4=binom.pmf(k=4,n=12,p=0.45)\n",
    "print(\"Probability barakha to solve 4 questions correctly will be :\",probabB4)\n",
    "# probability that barakha to solve 5 questions correctly\n",
    "probabB5=binom.pmf(k=5,n=12,p=0.45)\n",
    "print(\"Probability barakha to solve 5 questions correctly will be :\",probabB5)\n",
    "# probability that barakha to solve 6 questions correctly\n",
    "probabB6=binom.pmf(k=6,n=12,p=0.45)\n",
    "print(\"Probability barakha to solve 5 questions correctly will be :\",probabB6)\n"
   ]
  },
  {
   "cell_type": "code",
   "execution_count": 8,
   "metadata": {},
   "outputs": [
    {
     "data": {
      "text/plain": [
       "Text(0.5, 1.0, 'Barakha')"
      ]
     },
     "execution_count": 8,
     "metadata": {},
     "output_type": "execute_result"
    },
    {
     "data": {
      "image/png": "[encoded data removed]",
      "text/plain": [
       "<Figure size 432x288 with 2 Axes>"
      ]
     },
     "metadata": {
      "needs_background": "light"
     },
     "output_type": "display_data"
    }
   ],
   "source": [
    "from scipy.stats import binom\n",
    "import matplotlib.pyplot as plt\n",
    "import seaborn as sns\n",
    "fig, ax =plt.subplots(1,2)\n",
    "binomial_dataG=binom.rvs(n=8,p=0.75,size=1000)\n",
    "sns.distplot(binomial_dataG,hist=True,kde=True,color=\"blue\",ax=ax[0]).set_title('Gaurav')\n",
    "binomial_dataB=binom.rvs(n=12,p=0.55,size=1000)\n",
    "sns.distplot(binomial_dataB,hist=True,kde=True,color=\"coral\",ax=ax[1]).set_title('Barakha')"
   ]
  },
  {
   "cell_type": "markdown",
   "metadata": {},
   "source": [
    "## Problem Statement 7:\n",
    "Customers arrive at a rate of 72 per hour to my shop. What is the probability of 𝑘\n",
    "customers arriving in 4 minutes? a) 5 customers, b) not more than 3 customers, c)\n",
    "more than 3 customers. Give a pictorial representation of the same to validate your\n",
    "answer."
   ]
  },
  {
   "cell_type": "code",
   "execution_count": 15,
   "metadata": {},
   "outputs": [
    {
     "name": "stdout",
     "output_type": "stream",
     "text": [
      " The Probability of 5 customers in 4 minutes =  0.17474768364388296\n",
      " The Probability of not more than 3 customers in 4 minutes =  0.14253921888902693\n",
      " The Probability of more than 3 customers in 4 minutes =  0.4965746676880337\n"
     ]
    }
   ],
   "source": [
    "#customer arrive per minute=72/60=1.2 \n",
    "#in 4 min total number of customer will arrive = 1.2 X 4 = 4.8\n",
    "from scipy.stats import poisson\n",
    "probab1=poisson.pmf(k=5,mu=4.8)\n",
    "probab2=sum(poisson.pmf(k=[0,1,2],mu=4.8))\n",
    "probab3=sum(poisson.pmf(k=[4,5,6],mu=4.8))\n",
    "print(\" The Probability of 5 customers in 4 minutes = \", probab1)\n",
    "print(\" The Probability of not more than 3 customers in 4 minutes = \", probab2)\n",
    "print(\" The Probability of more than 3 customers in 4 minutes = \", probab3)"
   ]
  },
  {
   "cell_type": "code",
   "execution_count": 10,
   "metadata": {},
   "outputs": [
    {
     "data": {
      "text/plain": [
       "<matplotlib.axes._subplots.AxesSubplot at 0xa73193eb48>"
      ]
     },
     "execution_count": 10,
     "metadata": {},
     "output_type": "execute_result"
    },
    {
     "data": {
      "image/png": "[encoded data removed]",
      "text/plain": [
       "<Figure size 432x288 with 1 Axes>"
      ]
     },
     "metadata": {
      "needs_background": "light"
     },
     "output_type": "display_data"
    }
   ],
   "source": [
    "from scipy.stats import poisson\n",
    "import matplotlib.pyplot as plt\n",
    "import seaborn as sns\n",
    "poisson_data=poisson.rvs(mu=4.8,size=1000)\n",
    "sns.distplot(poisson_data,hist=True,kde=True,color=\"red\")"
   ]
  },
  {
   "cell_type": "markdown",
   "metadata": {},
   "source": [
    "## Problem Statement 8:\n",
    "I work as a data analyst in Aeon Learning Pvt. Ltd. After analyzing data, I make\n",
    "reports, where I have the efficiency of entering 77 words per minute with 6 errors per\n",
    "hour. What is the probability that I will commit 2 errors in a 455-word financial report?\n",
    "What happens when the no. of words increases/decreases (in case of 1000 words,\n",
    "255 words)?\n",
    "How is the 𝜆 affected?\n",
    "How does it influence the PMF?\n",
    "Give a pictorial representation of the same to validate your answer."
   ]
  },
  {
   "cell_type": "markdown",
   "metadata": {},
   "source": [
    "77 words per minute\n",
    "\n",
    "in 1 word in 1/77minute\n",
    "\n",
    "455 words in 455/77minute=5.909minutes\n",
    "\n",
    "6 errors per hour i.e 60minutes\n",
    "\n",
    "Error in 1 minute=6/60=0.1errors\n",
    "\n",
    "Time taken to write 455 words is 5.909 minutes and Expected number of errors  is = 5.909*0.1 = 0.591\n",
    "\n",
    "So the rate parameter The pmf of a Poisson's distribution is The probability that 2 errors will"
   ]
  },
  {
   "cell_type": "code",
   "execution_count": 13,
   "metadata": {},
   "outputs": [
    {
     "name": "stdout",
     "output_type": "stream",
     "text": [
      "The probability that I will commit 2 errors in a 455-word financial report =  0.09671123456337344\n"
     ]
    }
   ],
   "source": [
    "from scipy.stats import poisson\n",
    "probab=poisson.pmf(k=2,mu=0.591)\n",
    "print(\"The probability that I will commit 2 errors in a 455-word financial report = \", probab)"
   ]
  },
  {
   "cell_type": "code",
   "execution_count": 16,
   "metadata": {},
   "outputs": [
    {
     "data": {
      "text/plain": [
       "<matplotlib.axes._subplots.AxesSubplot at 0xa734704248>"
      ]
     },
     "execution_count": 16,
     "metadata": {},
     "output_type": "execute_result"
    },
    {
     "data": {
      "image/png": "[encoded data removed]",
      "text/plain": [
       "<Figure size 432x288 with 1 Axes>"
      ]
     },
     "metadata": {
      "needs_background": "light"
     },
     "output_type": "display_data"
    }
   ],
   "source": [
    "from scipy.stats import poisson\n",
    "import matplotlib.pyplot as plt\n",
    "import seaborn as sns\n",
    "poisson_data=poisson.rvs(mu=0.591,size=1000)\n",
    "sns.distplot(poisson_data,hist=True,kde=True,color=\"green\")"
   ]
  },
  {
   "cell_type": "code",
   "execution_count": 21,
   "metadata": {},
   "outputs": [
    {
     "data": {
      "text/plain": [
       "1.2987012987012987"
      ]
     },
     "execution_count": 21,
     "metadata": {},
     "output_type": "execute_result"
    }
   ],
   "source": [
    "# For 1000 words\n",
    "mu=1000*0.1/77\n",
    "mu"
   ]
  },
  {
   "cell_type": "code",
   "execution_count": 24,
   "metadata": {},
   "outputs": [
    {
     "name": "stdout",
     "output_type": "stream",
     "text": [
      "The probability that I will commit 2 errors in a 1000-word financial report =  0.22903905506982844\n"
     ]
    }
   ],
   "source": [
    "from scipy.stats import poisson\n",
    "probab=poisson.pmf(k=2,mu=1.29)\n",
    "print(\"The probability that I will commit 2 errors in a 1000-word financial report = \", probab)"
   ]
  },
  {
   "cell_type": "code",
   "execution_count": 23,
   "metadata": {},
   "outputs": [
    {
     "data": {
      "text/plain": [
       "0.33116883116883117"
      ]
     },
     "execution_count": 23,
     "metadata": {},
     "output_type": "execute_result"
    }
   ],
   "source": [
    "# For 255 words\n",
    "mu=255*0.1/77\n",
    "mu"
   ]
  },
  {
   "cell_type": "code",
   "execution_count": 25,
   "metadata": {},
   "outputs": [
    {
     "name": "stdout",
     "output_type": "stream",
     "text": [
      "The probability that I will commit 2 errors in a 255-word financial report =  0.03914539728536837\n"
     ]
    }
   ],
   "source": [
    "from scipy.stats import poisson\n",
    "probab=poisson.pmf(k=2,mu=0.33)\n",
    "print(\"The probability that I will commit 2 errors in a 255-word financial report = \", probab)"
   ]
  },
  {
   "cell_type": "markdown",
   "metadata": {},
   "source": [
    "## Problem Statement 9:\n",
    "Let the continuous random variable D denote the diameter of the hole drilled in an\n",
    "aluminum sheet. The target diameter to be achieved is 12.5mm. Random\n",
    "disturbances in the process often result in inaccuracy.\n",
    "Historical data shows that the distribution of D can be modelled by the PDF, f(d) =\n",
    "20e−20(d−12.5), d ≥ 12.5. If a part with diameter > 12.6 mm needs to be scrapped,\n",
    "what is the proportion of those parts? What is the CDF when the diameter is of 11\n",
    "mm?\n",
    "What is the conclusion of this experiment?"
   ]
  },
  {
   "cell_type": "code",
   "execution_count": 31,
   "metadata": {},
   "outputs": [
    {
     "name": "stdout",
     "output_type": "stream",
     "text": [
      "P(x>12.6) =  0.13533528323661398\n",
      "P(12.5<x<12.6) =  0.8646647167633861\n"
     ]
    }
   ],
   "source": [
    "import scipy.integrate as integrate\n",
    "import numpy as np\n",
    "value, absolute_error = integrate.quad(lambda x: 20*np.exp(-20*(x-12.5)), 12.6, np.inf)\n",
    "result = 1- value\n",
    "print(\"P(x>12.6) = \", value)\n",
    "print(\"P(12.5<x<12.6) = \", result)"
   ]
  },
  {
   "cell_type": "markdown",
   "metadata": {},
   "source": [
    "## Problem Statement 10:\n",
    "Please compute the following:"
   ]
  },
  {
   "cell_type": "markdown",
   "metadata": {},
   "source": [
    "a) \n",
    "1. P(Z > 1.26)= 1 - P(Z < 1.26) = 1 - 0.8962 = 0.104\n",
    "\n",
    "2. P(Z < −0.86)=0.1949\n",
    "\n",
    "3. P(Z > −1.37)= 1- P(Z < −1.37) = 1 - 0.0835 = 0.9165\n",
    "\n",
    "4. P(−1.25 < Z < 0.37)= P(Z < 0.37) - P(Z < -1.25) = 0.6443 - 0.1056 = 0.5387\n",
    "\n",
    "5. P(Z ≤ −4.6) will be almost 0."
   ]
  },
  {
   "cell_type": "markdown",
   "metadata": {},
   "source": [
    "b) Find the value 𝑧 such that 𝑃(𝑍 > 𝑧) = 0.05\n",
    "\n",
    "Therefore, 𝑃(𝑍 < 𝑧) = 1 - 0.05 = 0.95\n",
    "\n",
    "z= 1.64"
   ]
  },
  {
   "cell_type": "markdown",
   "metadata": {},
   "source": [
    "c) Find the value of 𝑧 such that 𝑃(−𝑧 < 𝑍 < 𝑧) = 0.99\n",
    "\n",
    "z = 2.33"
   ]
  },
  {
   "cell_type": "markdown",
   "metadata": {},
   "source": [
    "## Problem Statement 11:\n",
    "The current flow in a copper wire follow a normal distribution with a mean of 10 𝑚A\n",
    "and a variance of 4 (𝑚𝐴)2.\n",
    "What is the probability that a current measurement will exceed 13 𝑚𝐴? What is the\n",
    "probability that a current measurement is between 9 and 11mA? Determine the\n",
    "current measurement which has a probability of 0.98."
   ]
  },
  {
   "cell_type": "markdown",
   "metadata": {},
   "source": [
    "mean=10\n",
    "\n",
    "var=4\n",
    "\n",
    "std=2\n",
    "\n",
    "converting from normal distribution to standard normal distribution\n",
    "\n",
    "### What is the probability that a current measurement will exceed 13 𝑚𝐴?\n",
    "\n",
    "Xsnd=(data-mean)/std\n",
    "\n",
    "Xsnd=(13-10)/2=1.5\n",
    "\n",
    "P( Z > 1.5 ) = 1 - P (Z < 1.5 ) = 1 - 0.9332 = 0.0668\n"
   ]
  },
  {
   "cell_type": "markdown",
   "metadata": {},
   "source": [
    "### What is the probability that a current measurement is between 9 and 11mA? \n",
    "\n",
    "(9-10)/2 > Z > (11-10)/2\n",
    "\n",
    "P(-0.5 > Z > 0.5) = P (Z<0.5) - P(Z<-0.5) = 0.6915 - 0.3085 = 0.383"
   ]
  },
  {
   "cell_type": "markdown",
   "metadata": {},
   "source": [
    "### Determine the current measurement which has a probability of 0.98.\n",
    "P=0.98\n",
    "\n",
    "z=2.05\n",
    "\n",
    "(x-10)/2=2.05\n",
    "\n",
    "x=14.1 mA"
   ]
  },
  {
   "cell_type": "markdown",
   "metadata": {},
   "source": [
    "## Problem Statement 12:\n",
    "The shaft in a piston has its diameter normally distributed with a mean of 0.2508 inch\n",
    "and a standard deviation of 0.0005 inch. The specifications of the shaft are 0.2500 ∓\n",
    "0.0015 inch. What proportion of shafts are in sync with the specifications? If the\n",
    "process is centered so that the mean is equal to the target value of 0.2500, what\n",
    "proportion of shafts conform to the new specifications? What is your conclusion from\n",
    "this experiment?"
   ]
  },
  {
   "cell_type": "markdown",
   "metadata": {},
   "source": [
    "### What proportion of shafts are in sync with the specifications?\n",
    "\n",
    "Z = (X - mean)/sd\n",
    "\n",
    "=(X - 0.2508)/0.0005\n",
    "\n",
    "P ( 0.2485<X<0.2515 ) =P ( −4.6<Z<1.4 )\n",
    "\n",
    "=0.9192-0 = 0.9192"
   ]
  },
  {
   "cell_type": "markdown",
   "metadata": {},
   "source": [
    "### If the process is centered so that the mean is equal to the target value of 0.2500, what proportion of shafts conform to the new specifications?\n",
    "mean = 0.2500\n",
    "\n",
    "therefore, P ( 0.2485<X<0.2515 ) = P ( -3<Z<3 ) \n",
    "\n",
    "= 0.9987-0.0013 = 0.9974"
   ]
  },
  {
   "cell_type": "code",
   "execution_count": null,
   "metadata": {},
   "outputs": [],
   "source": []
  }
 ],
 "metadata": {
  "kernelspec": {
   "display_name": "Python 3",
   "language": "python",
   "name": "python3"
  },
  "language_info": {
   "codemirror_mode": {
    "name": "ipython",
    "version": 3
   },
   "file_extension": ".py",
   "mimetype": "text/x-python",
   "name": "python",
   "nbconvert_exporter": "python",
   "pygments_lexer": "ipython3",
   "version": "3.7.6"
  }
 },
 "nbformat": 4,
 "nbformat_minor": 4
}
