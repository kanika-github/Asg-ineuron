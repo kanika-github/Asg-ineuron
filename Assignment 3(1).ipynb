{
 "cells": [
  {
   "cell_type": "markdown",
   "metadata": {},
   "source": [
    "# Assignment 3(1)"
   ]
  },
  {
   "cell_type": "markdown",
   "metadata": {},
   "source": [
    "## Task 1"
   ]
  },
  {
   "cell_type": "markdown",
   "metadata": {},
   "source": [
    "1) Write a function to compute 5/0 and use try/except to catch the exceptions."
   ]
  },
  {
   "cell_type": "code",
   "execution_count": 8,
   "metadata": {},
   "outputs": [
    {
     "name": "stdout",
     "output_type": "stream",
     "text": [
      "Error occured in the code:  division by zero\n"
     ]
    }
   ],
   "source": [
    "def div_by_zero():\n",
    "    return 5/0\n",
    "\n",
    "try:\n",
    "    div_by_zero()\n",
    "#except ZeroDivisionError as z:\n",
    "#    print(\"Error occured: \", z)\n",
    "except Exception as e:\n",
    "    print(\"Error occured in the code: \", e)\n",
    "    \n",
    "    "
   ]
  },
  {
   "cell_type": "markdown",
   "metadata": {},
   "source": [
    "2) Implement a Python program to generate all sentences where subject is in [\"Americans\",\n",
    "\"Indians\"] and verb is in [\"Play\", \"watch\"] and the object is in [\"Baseball\",\"cricket\"].\n",
    "Hint: Subject,Verb and Object should be declared in the program as shown below.\n",
    "subjects=[\"Americans \",\"Indians\"]\n",
    "verbs=[\"play\",\"watch\"]\n",
    "objects=[\"Baseball\",\"Cricket\"]"
   ]
  },
  {
   "cell_type": "code",
   "execution_count": 8,
   "metadata": {},
   "outputs": [
    {
     "name": "stdout",
     "output_type": "stream",
     "text": [
      "Americans Play Baseball\n",
      "Americans Play cricket\n",
      "Americans watch Baseball\n",
      "Americans watch cricket\n",
      "Indians Play Baseball\n",
      "Indians Play cricket\n",
      "Indians watch Baseball\n",
      "Indians watch cricket\n"
     ]
    }
   ],
   "source": [
    "subjects=[\"Americans\", \"Indians\"]\n",
    "verbs=[\"Play\", \"watch\"]\n",
    "objects=[\"Baseball\",\"cricket\"]\n",
    "\n",
    "sentences = [(x+\" \"+ y + \" \" + z) for x in subjects for y in verbs for z in objects]\n",
    "for i in sentences:\n",
    "    print (i)"
   ]
  },
  {
   "cell_type": "markdown",
   "metadata": {},
   "source": [
    "## Task 2"
   ]
  },
  {
   "cell_type": "markdown",
   "metadata": {},
   "source": [
    "1) Write a function so that the columns of the output matrix are powers of the input vector.\n",
    "The order of the powers is determined by the increasing boolean argument. Specifically, when\n",
    "increasing is False, the i-th output column is the input vector raised element-wise to the power\n",
    "of N - i - 1.\n",
    "HINT: Such a matrix with a geometric progression in each row is named for Alexandre-\n",
    "Theophile Vandermonde."
   ]
  },
  {
   "cell_type": "code",
   "execution_count": 31,
   "metadata": {},
   "outputs": [
    {
     "name": "stdout",
     "output_type": "stream",
     "text": [
      "Input array is: [1 2 3 4 5 6]\n",
      "Number of columns: 4\n",
      "Power increase=False array: \n",
      " [[  1   1   1   1]\n",
      " [  8   4   2   1]\n",
      " [ 27   9   3   1]\n",
      " [ 64  16   4   1]\n",
      " [125  25   5   1]\n",
      " [216  36   6   1]]\n",
      "Power increase=True array: \n",
      " [[  1   1   1   1]\n",
      " [  1   2   4   8]\n",
      " [  1   3   9  27]\n",
      " [  1   4  16  64]\n",
      " [  1   5  25 125]\n",
      " [  1   6  36 216]]\n"
     ]
    }
   ],
   "source": [
    "import numpy as np\n",
    " \n",
    "def vandermonde(input_array, n, increasing):\n",
    "    \n",
    "    if increasing==False:\n",
    "        output = np.array([m**(n-1-i) for m in input_array for i in range(n)])\n",
    "    elif increasing==True:\n",
    "        output = np.array([m**i for m in input_array for i in range(n)])\n",
    "    \n",
    "    return output.reshape(input_array.size,n)\n",
    "\n",
    "input_a = np.array([1,2,3,4,5,6])\n",
    "no_col = 4\n",
    "output_decrease = vandermonde(input_a,no_col,False)\n",
    "output_increase = vandermonde(input_a,no_col,True)\n",
    "\n",
    "print(\"Input array is:\",input_a)\n",
    "print(\"Number of columns:\",no_col)\n",
    "print(\"Power increase=False array:\",'\\n',output_decrease)\n",
    "print(\"Power increase=True array:\",'\\n',output_increase)"
   ]
  },
  {
   "cell_type": "code",
   "execution_count": 14,
   "metadata": {},
   "outputs": [
    {
     "data": {
      "text/plain": [
       "array([[  1,   1,   1,   1],\n",
       "       [  8,   4,   2,   1],\n",
       "       [ 27,   9,   3,   1],\n",
       "       [ 64,  16,   4,   1],\n",
       "       [125,  25,   5,   1]])"
      ]
     },
     "execution_count": 14,
     "metadata": {},
     "output_type": "execute_result"
    }
   ],
   "source": [
    "#column of the output matrix are power of the input vector\n",
    "import numpy as np\n",
    "x = np.array([1,2,3,4,5])\n",
    "N = 4\n",
    "\n",
    "np.vander(x,N)"
   ]
  },
  {
   "cell_type": "code",
   "execution_count": null,
   "metadata": {},
   "outputs": [],
   "source": []
  }
 ],
 "metadata": {
  "kernelspec": {
   "display_name": "Python 3",
   "language": "python",
   "name": "python3"
  },
  "language_info": {
   "codemirror_mode": {
    "name": "ipython",
    "version": 3
   },
   "file_extension": ".py",
   "mimetype": "text/x-python",
   "name": "python",
   "nbconvert_exporter": "python",
   "pygments_lexer": "ipython3",
   "version": "3.7.6"
  }
 },
 "nbformat": 4,
 "nbformat_minor": 4
}
